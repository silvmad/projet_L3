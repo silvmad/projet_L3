{
 "cells": [
  {
   "cell_type": "code",
   "execution_count": 1,
   "id": "742d6fbd-d1c4-44c1-a11b-43c45f5f421c",
   "metadata": {},
   "outputs": [],
   "source": [
    "import torch"
   ]
  },
  {
   "cell_type": "code",
   "execution_count": 2,
   "id": "ea9256bd-af09-4d57-8717-1ad79c75cc93",
   "metadata": {},
   "outputs": [],
   "source": [
    "from transformers import CamembertTokenizer, CamembertModel, CamembertForSequenceClassification, Trainer, TrainingArguments"
   ]
  },
  {
   "cell_type": "code",
   "execution_count": 3,
   "id": "91751eaa-045d-442b-9fa6-12403d199423",
   "metadata": {},
   "outputs": [],
   "source": [
    "import pandas as pd\n",
    "from sklearn.model_selection import train_test_split\n",
    "from confmat import plot_confusion_matrix\n",
    "import re\n",
    "import os\n",
    "import random\n",
    "import numpy as np"
   ]
  },
  {
   "cell_type": "code",
   "execution_count": 4,
   "id": "299e1592-aaa9-4907-b6dd-fe016d47cb12",
   "metadata": {},
   "outputs": [],
   "source": [
    "model_dir = \"models/tweetbert\"\n",
    "data_dir = \"datasets/final/\""
   ]
  },
  {
   "cell_type": "markdown",
   "id": "baab2f3c-5c92-487e-8235-6d6754a85670",
   "metadata": {},
   "source": [
    "### Chargement des données"
   ]
  },
  {
   "cell_type": "code",
   "execution_count": 5,
   "id": "b68e5706-c0d9-49b3-887b-0d9ad570db30",
   "metadata": {},
   "outputs": [],
   "source": [
    "dir_it = os.scandir(path=data_dir)  \n",
    "filenames = [entry.name for entry in dir_it] "
   ]
  },
  {
   "cell_type": "code",
   "execution_count": 6,
   "id": "8d52b1ae-8e25-481b-934c-36868d094522",
   "metadata": {},
   "outputs": [],
   "source": [
    "raw_dataset = []\n",
    "\n",
    "for i, filename in enumerate(filenames):\n",
    "    with open(data_dir + filename, \"r\") as f:\n",
    "        lines = f.read().splitlines()\n",
    "#    lab = 0 if filename.split(\"_\")[2] == \"normal\" else 1\n",
    "    raw_dataset += [(msg, i) for msg in lines]"
   ]
  },
  {
   "cell_type": "code",
   "execution_count": 7,
   "id": "3bdaec15-fce4-4425-8daa-0762886ba293",
   "metadata": {},
   "outputs": [],
   "source": [
    "# pour des résultats déterministes dans la phase d'évaluation\n",
    "random.Random(0).shuffle(raw_dataset)"
   ]
  },
  {
   "cell_type": "code",
   "execution_count": 8,
   "id": "b9b9ddda-bf38-4d11-aeba-90e1f4d96205",
   "metadata": {},
   "outputs": [],
   "source": [
    "tweets = []\n",
    "labels = []\n",
    "for msg, lab in raw_dataset:\n",
    "    tweets.append(msg)\n",
    "    labels.append(lab)"
   ]
  },
  {
   "cell_type": "markdown",
   "id": "24572f3b-8fa8-4f69-9ec4-e33e990cb5f5",
   "metadata": {},
   "source": [
    "### Charger le modèle"
   ]
  },
  {
   "cell_type": "code",
   "execution_count": 9,
   "id": "dfcd9f8c-a7eb-4da2-97a7-8ee62190a3d4",
   "metadata": {},
   "outputs": [
    {
     "name": "stderr",
     "output_type": "stream",
     "text": [
      "Some weights of the model checkpoint at models/tweetbert were not used when initializing CamembertForSequenceClassification: ['lm_head.layer_norm.weight', 'lm_head.layer_norm.bias', 'lm_head.dense.weight', 'lm_head.bias', 'lm_head.dense.bias']\n",
      "- This IS expected if you are initializing CamembertForSequenceClassification from the checkpoint of a model trained on another task or with another architecture (e.g. initializing a BertForSequenceClassification model from a BertForPreTraining model).\n",
      "- This IS NOT expected if you are initializing CamembertForSequenceClassification from the checkpoint of a model that you expect to be exactly identical (initializing a BertForSequenceClassification model from a BertForSequenceClassification model).\n",
      "Some weights of CamembertForSequenceClassification were not initialized from the model checkpoint at models/tweetbert and are newly initialized: ['classifier.out_proj.weight', 'classifier.dense.bias', 'classifier.dense.weight', 'classifier.out_proj.bias']\n",
      "You should probably TRAIN this model on a down-stream task to be able to use it for predictions and inference.\n"
     ]
    }
   ],
   "source": [
    "tokenizer = CamembertTokenizer.from_pretrained(model_dir, do_lowercase=False)\n",
    "#classifier = CamembertForSequenceClassification.from_pretrained(model_dir)\n",
    "#camembert = CamembertModel.from_pretrained(model_dir)\n",
    "classifier = CamembertForSequenceClassification.from_pretrained(model_dir, num_labels = 5)"
   ]
  },
  {
   "cell_type": "code",
   "execution_count": 10,
   "id": "75e79e21-b7cd-439f-a24f-765cbbe28de8",
   "metadata": {},
   "outputs": [],
   "source": [
    "device = torch.device('cuda') if torch.cuda.is_available() else torch.device('cpu')\n",
    "r = classifier.to(device)"
   ]
  },
  {
   "cell_type": "markdown",
   "id": "435e5c8b-6ddb-4e15-bf4e-a0185cef7a0c",
   "metadata": {},
   "source": [
    "### Fine tuning"
   ]
  },
  {
   "cell_type": "code",
   "execution_count": 11,
   "id": "86a838dc-473c-40e4-bf1f-622eb1fadd1e",
   "metadata": {},
   "outputs": [],
   "source": [
    "train_tweets, test_tweets, train_labels, test_labels = train_test_split(tweets, labels, test_size=0.2, random_state=42)"
   ]
  },
  {
   "cell_type": "code",
   "execution_count": 12,
   "id": "6424947b-f3ef-480b-829c-ec812ad45f03",
   "metadata": {},
   "outputs": [],
   "source": [
    "train_encodings = tokenizer(train_tweets, padding=True, truncation=True, max_length=512, return_tensors=\"pt\")\n",
    "test_encodings = tokenizer(test_tweets, padding=True, truncation=True, max_length=512, return_tensors=\"pt\")"
   ]
  },
  {
   "cell_type": "code",
   "execution_count": 13,
   "id": "61c7dca7-e3d5-41d8-9a21-0367cdc63527",
   "metadata": {},
   "outputs": [],
   "source": [
    "class FrTwitterHateDataset(torch.utils.data.Dataset):\n",
    "    def __init__(self, encodings, labels):\n",
    "        self.encodings = encodings\n",
    "        self.labels = labels\n",
    "\n",
    "    def __getitem__(self, idx):\n",
    "        item = {key: torch.tensor(val[idx]) for key, val in self.encodings.items()}\n",
    "        item['labels'] = torch.tensor(self.labels[idx])\n",
    "        return item\n",
    "\n",
    "    def __len__(self):\n",
    "        return len(self.labels)"
   ]
  },
  {
   "cell_type": "code",
   "execution_count": 14,
   "id": "847ac90a-cb0d-4479-8a89-0845a084828e",
   "metadata": {},
   "outputs": [],
   "source": [
    "train_dataset = FrTwitterHateDataset(train_encodings, train_labels)\n",
    "test_dataset = FrTwitterHateDataset(test_encodings, test_labels)"
   ]
  },
  {
   "cell_type": "code",
   "execution_count": 15,
   "id": "697393ce-48c1-4f77-a647-3b776cfa3576",
   "metadata": {},
   "outputs": [],
   "source": [
    "training_args = TrainingArguments(\n",
    "    output_dir='./models/final_model',          # output directory\n",
    "    num_train_epochs=3,              # total number of training epochs\n",
    "    per_device_train_batch_size=16,  # batch size per device during training\n",
    "    per_device_eval_batch_size=8,   # batch size for evaluation\n",
    "    warmup_steps=500,                # number of warmup steps for learning rate scheduler\n",
    "    weight_decay=0.01,               # strength of weight decay\n",
    "    logging_dir='./logs',            # directory for storing logs\n",
    "    logging_steps=10,\n",
    "    evaluation_strategy=\"epoch\"\n",
    ")\n",
    "\n",
    "#model = DistilBertForSequenceClassification.from_pretrained(\"distilbert-base-uncased\")\n",
    "\n",
    "trainer = Trainer(\n",
    "    model=classifier,                         # the instantiated 🤗 Transformers model to be trained\n",
    "    args=training_args,                  # training arguments, defined above\n",
    "    train_dataset=train_dataset,         # training dataset\n",
    "    eval_dataset=test_dataset,             # evaluation dataset\n",
    "    #compute_metrics=compute_metrics,\n",
    ")"
   ]
  },
  {
   "cell_type": "code",
   "execution_count": 52,
   "id": "cb0bc064-75b2-4988-8966-80ecccbc2cad",
   "metadata": {},
   "outputs": [],
   "source": [
    "torch.cuda.empty_cache()"
   ]
  },
  {
   "cell_type": "code",
   "execution_count": 16,
   "id": "1e7d647c-0c11-49bc-97c1-89b257363d41",
   "metadata": {},
   "outputs": [
    {
     "name": "stderr",
     "output_type": "stream",
     "text": [
      "/home/victor/data/fidle/fidle-env/lib/python3.9/site-packages/transformers/optimization.py:306: FutureWarning: This implementation of AdamW is deprecated and will be removed in a future version. Use the PyTorch implementation torch.optim.AdamW instead, or set `no_deprecation_warning=True` to disable this warning\n",
      "  warnings.warn(\n",
      "***** Running training *****\n",
      "  Num examples = 16000\n",
      "  Num Epochs = 3\n",
      "  Instantaneous batch size per device = 16\n",
      "  Total train batch size (w. parallel, distributed & accumulation) = 16\n",
      "  Gradient Accumulation steps = 1\n",
      "  Total optimization steps = 3000\n",
      "/tmp/ipykernel_3231/823565030.py:7: UserWarning: To copy construct from a tensor, it is recommended to use sourceTensor.clone().detach() or sourceTensor.clone().detach().requires_grad_(True), rather than torch.tensor(sourceTensor).\n",
      "  item = {key: torch.tensor(val[idx]) for key, val in self.encodings.items()}\n"
     ]
    },
    {
     "data": {
      "text/html": [
       "\n",
       "    <div>\n",
       "      \n",
       "      <progress value='3000' max='3000' style='width:300px; height:20px; vertical-align: middle;'></progress>\n",
       "      [3000/3000 48:11, Epoch 3/3]\n",
       "    </div>\n",
       "    <table border=\"1\" class=\"dataframe\">\n",
       "  <thead>\n",
       " <tr style=\"text-align: left;\">\n",
       "      <th>Epoch</th>\n",
       "      <th>Training Loss</th>\n",
       "      <th>Validation Loss</th>\n",
       "    </tr>\n",
       "  </thead>\n",
       "  <tbody>\n",
       "    <tr>\n",
       "      <td>1</td>\n",
       "      <td>0.277200</td>\n",
       "      <td>0.235468</td>\n",
       "    </tr>\n",
       "    <tr>\n",
       "      <td>2</td>\n",
       "      <td>0.084000</td>\n",
       "      <td>0.210858</td>\n",
       "    </tr>\n",
       "    <tr>\n",
       "      <td>3</td>\n",
       "      <td>0.116300</td>\n",
       "      <td>0.206327</td>\n",
       "    </tr>\n",
       "  </tbody>\n",
       "</table><p>"
      ],
      "text/plain": [
       "<IPython.core.display.HTML object>"
      ]
     },
     "metadata": {},
     "output_type": "display_data"
    },
    {
     "name": "stderr",
     "output_type": "stream",
     "text": [
      "Saving model checkpoint to ./models/final_model/checkpoint-500\n",
      "Configuration saved in ./models/final_model/checkpoint-500/config.json\n",
      "Model weights saved in ./models/final_model/checkpoint-500/pytorch_model.bin\n",
      "/tmp/ipykernel_3231/823565030.py:7: UserWarning: To copy construct from a tensor, it is recommended to use sourceTensor.clone().detach() or sourceTensor.clone().detach().requires_grad_(True), rather than torch.tensor(sourceTensor).\n",
      "  item = {key: torch.tensor(val[idx]) for key, val in self.encodings.items()}\n",
      "Saving model checkpoint to ./models/final_model/checkpoint-1000\n",
      "Configuration saved in ./models/final_model/checkpoint-1000/config.json\n",
      "Model weights saved in ./models/final_model/checkpoint-1000/pytorch_model.bin\n",
      "***** Running Evaluation *****\n",
      "  Num examples = 4000\n",
      "  Batch size = 8\n",
      "/tmp/ipykernel_3231/823565030.py:7: UserWarning: To copy construct from a tensor, it is recommended to use sourceTensor.clone().detach() or sourceTensor.clone().detach().requires_grad_(True), rather than torch.tensor(sourceTensor).\n",
      "  item = {key: torch.tensor(val[idx]) for key, val in self.encodings.items()}\n",
      "Saving model checkpoint to ./models/final_model/checkpoint-1500\n",
      "Configuration saved in ./models/final_model/checkpoint-1500/config.json\n",
      "Model weights saved in ./models/final_model/checkpoint-1500/pytorch_model.bin\n",
      "/tmp/ipykernel_3231/823565030.py:7: UserWarning: To copy construct from a tensor, it is recommended to use sourceTensor.clone().detach() or sourceTensor.clone().detach().requires_grad_(True), rather than torch.tensor(sourceTensor).\n",
      "  item = {key: torch.tensor(val[idx]) for key, val in self.encodings.items()}\n",
      "Saving model checkpoint to ./models/final_model/checkpoint-2000\n",
      "Configuration saved in ./models/final_model/checkpoint-2000/config.json\n",
      "Model weights saved in ./models/final_model/checkpoint-2000/pytorch_model.bin\n",
      "***** Running Evaluation *****\n",
      "  Num examples = 4000\n",
      "  Batch size = 8\n",
      "/tmp/ipykernel_3231/823565030.py:7: UserWarning: To copy construct from a tensor, it is recommended to use sourceTensor.clone().detach() or sourceTensor.clone().detach().requires_grad_(True), rather than torch.tensor(sourceTensor).\n",
      "  item = {key: torch.tensor(val[idx]) for key, val in self.encodings.items()}\n",
      "Saving model checkpoint to ./models/final_model/checkpoint-2500\n",
      "Configuration saved in ./models/final_model/checkpoint-2500/config.json\n",
      "Model weights saved in ./models/final_model/checkpoint-2500/pytorch_model.bin\n",
      "/tmp/ipykernel_3231/823565030.py:7: UserWarning: To copy construct from a tensor, it is recommended to use sourceTensor.clone().detach() or sourceTensor.clone().detach().requires_grad_(True), rather than torch.tensor(sourceTensor).\n",
      "  item = {key: torch.tensor(val[idx]) for key, val in self.encodings.items()}\n",
      "Saving model checkpoint to ./models/final_model/checkpoint-3000\n",
      "Configuration saved in ./models/final_model/checkpoint-3000/config.json\n",
      "Model weights saved in ./models/final_model/checkpoint-3000/pytorch_model.bin\n",
      "***** Running Evaluation *****\n",
      "  Num examples = 4000\n",
      "  Batch size = 8\n",
      "/tmp/ipykernel_3231/823565030.py:7: UserWarning: To copy construct from a tensor, it is recommended to use sourceTensor.clone().detach() or sourceTensor.clone().detach().requires_grad_(True), rather than torch.tensor(sourceTensor).\n",
      "  item = {key: torch.tensor(val[idx]) for key, val in self.encodings.items()}\n",
      "\n",
      "\n",
      "Training completed. Do not forget to share your model on huggingface.co/models =)\n",
      "\n",
      "\n"
     ]
    },
    {
     "name": "stdout",
     "output_type": "stream",
     "text": [
      "CPU times: user 45min 9s, sys: 1min 56s, total: 47min 6s\n",
      "Wall time: 48min 13s\n"
     ]
    },
    {
     "data": {
      "text/plain": [
       "TrainOutput(global_step=3000, training_loss=0.2793915905108054, metrics={'train_runtime': 2893.6283, 'train_samples_per_second': 16.588, 'train_steps_per_second': 1.037, 'total_flos': 2935411776864000.0, 'train_loss': 0.2793915905108054, 'epoch': 3.0})"
      ]
     },
     "execution_count": 16,
     "metadata": {},
     "output_type": "execute_result"
    }
   ],
   "source": [
    "%%time\n",
    "trainer.train()"
   ]
  },
  {
   "cell_type": "code",
   "execution_count": 29,
   "id": "62a42639-209e-4415-92d5-0ab90f1139ea",
   "metadata": {},
   "outputs": [
    {
     "name": "stdout",
     "output_type": "stream",
     "text": [
      "CPU times: user 30.1 s, sys: 17.8 ms, total: 30.1 s\n",
      "Wall time: 30.1 s\n"
     ]
    }
   ],
   "source": [
    "%%time\n",
    "test_pred = []\n",
    "for n in range(0, len(test_tweets), 10):\n",
    "    phrases = test_tweets[n:n+10]\n",
    "    enc = tokenizer(phrases, padding=True, truncation=True, max_length=512, return_tensors='pt')\n",
    "    enc.to('cuda:0')\n",
    "    with torch.no_grad():\n",
    "        outp = classifier(**enc)\n",
    "    pred = torch.nn.functional.softmax(outp.logits, dim=1)\n",
    "    plabels = torch.argmax(pred, dim=1)\n",
    "    test_pred.append(plabels)"
   ]
  },
  {
   "cell_type": "code",
   "execution_count": 30,
   "id": "fbedea6d-d2fb-45bf-afdb-5c1dbe116a1c",
   "metadata": {},
   "outputs": [],
   "source": [
    "cat_pred = torch.cat(test_pred)"
   ]
  },
  {
   "cell_type": "code",
   "execution_count": 31,
   "id": "dbcea8df-c53e-4eaa-ac4a-df0cf43876c0",
   "metadata": {},
   "outputs": [],
   "source": [
    "r =classifier.to('cuda:0')"
   ]
  },
  {
   "cell_type": "code",
   "execution_count": 32,
   "id": "2866e8fd-e066-4180-9a5f-a2ac93016fcd",
   "metadata": {},
   "outputs": [
    {
     "data": {
      "text/plain": [
       "['capacitiste', 'lgbt', 'miso', 'normal', 'racisme']"
      ]
     },
     "execution_count": 32,
     "metadata": {},
     "output_type": "execute_result"
    }
   ],
   "source": [
    "filenames"
   ]
  },
  {
   "cell_type": "code",
   "execution_count": 33,
   "id": "ff45d65c-87f2-4e6c-9a15-072f1a214521",
   "metadata": {},
   "outputs": [
    {
     "data": {
      "image/png": "[encoded data removed]",
      "text/plain": [
       "<Figure size 720x576 with 2 Axes>"
      ]
     },
     "metadata": {
      "needs_background": "light"
     },
     "output_type": "display_data"
    }
   ],
   "source": [
    "plot_confusion_matrix(test_labels, cat_pred.cpu(), ['validisme', 'homophobie', 'sexisme', 'normal', 'racisme'])"
   ]
  },
  {
   "cell_type": "code",
   "execution_count": 34,
   "id": "dd00ac72-50c6-4785-9428-ad99bd9c92c1",
   "metadata": {},
   "outputs": [
    {
     "name": "stderr",
     "output_type": "stream",
     "text": [
      "Configuration saved in models/final_model_/config.json\n",
      "Model weights saved in models/final_model_/pytorch_model.bin\n"
     ]
    }
   ],
   "source": [
    "classifier.save_pretrained(\"models/final_model_\")"
   ]
  },
  {
   "cell_type": "code",
   "execution_count": 38,
   "id": "06f06e26-5e53-4c42-98a4-620da0b6e055",
   "metadata": {},
   "outputs": [
    {
     "name": "stdout",
     "output_type": "stream",
     "text": [
      "racisme :\tNon le YOUPIN de BFM je ne suis pas qu’ antisémite et homophobe !! Je déteste aussi les heteros 🧏🏽‍♂️ ces batards font des gamins et vu qu’on est pas du même monde on se demande a qui ils vont servir !!! HEIN LE DUMAS 🤫\n",
      "validisme :\tEt si les réseaux sociaux sont une économie à part entière mais ta l'air trop con pour comprendre ça aussi toi 🤣🤣. Tu va juste sur Twitter comme un mongol pour critiquer ceux qui réussisse 🤣🤣🤣🤡🤡🤡\n",
      "sexisme :\tPTDDDDDDDDDDDDDDDRRRRRRR ÉCOUTE MOI BIEN POUFIASSE RANGE ÇA\n",
      "homophobie :\t2 but 5 pd en l1 en ldc je les connais pas par cœur\n",
      "racisme :\tC’est l’équivalent de bougnoule pour les blancs/non-musulman ☹️\n",
      "validisme :\tPutain j'avais oublié que j'étais sur un réseau d'attardé ou les supporters d'une équipe vannent en étant 7e et en ayant pour rêve de jouer la conference league (compétition qu'ils ont rabaissé lorsqu'il s'agissait de parler de l'OM en demi bien évidemment)\n",
      "sexisme :\tNon parce sue on a fait la pute acec moi donc Jsuis devenu un fdp\n",
      "homophobie :\tNapoleon est une fiotte en plus d’être un nain\n",
      "normal :\tgenre jsp moi \"yeux bridé\" j'ai toujours eu l'habitude qu'on me le dise mais de manière rabaissante du coup jsp là ça fait vraiment bizarre 😭😭\n",
      "sexisme :\t\"Ça te fait rire fille de chienne de pute d'enculée de grosse salope d'enculée, ça te fait rire grosse coche ?\"\n"
     ]
    }
   ],
   "source": [
    "start = 10\n",
    "n = 10\n",
    "for msg, lab in zip(test_tweets[start:start+n], cat_pred[start:start+n]):\n",
    "    if lab == 0:\n",
    "        slab = \"validisme\" \n",
    "    elif lab == 1:\n",
    "        slab = \"homophobie\"\n",
    "    elif lab == 2:\n",
    "        slab = \"sexisme\"\n",
    "    elif lab == 3:\n",
    "        slab = \"normal\"\n",
    "    elif lab == 4:\n",
    "        slab = \"racisme\"\n",
    "        \n",
    "    print(\"{} :\\t{}\".format(slab, msg))"
   ]
  },
  {
   "cell_type": "code",
   "execution_count": 42,
   "id": "0d08d89a-0139-48e8-b557-3d76ba2d886f",
   "metadata": {},
   "outputs": [],
   "source": [
    "def predict(phrase):\n",
    "    enc = tokenizer(phrase, padding=True, truncation=True, max_length=512, return_tensors='pt')\n",
    "    enc.to('cuda:0')\n",
    "    with torch.no_grad():\n",
    "        outp = classifier(**enc)\n",
    "    pred = torch.nn.functional.softmax(outp.logits, dim=1)\n",
    "    plabels = torch.argmax(pred, dim=1)\n",
    "    lab = plabels[0]\n",
    "    if lab == 0:\n",
    "        slab = \"validisme\" \n",
    "    elif lab == 1:\n",
    "        slab = \"homophobie\"\n",
    "    elif lab == 2:\n",
    "        slab = \"sexisme\"\n",
    "    elif lab == 3:\n",
    "        slab = \"normal\"\n",
    "    elif lab == 4:\n",
    "        slab = \"racisme\"\n",
    "    return slab"
   ]
  },
  {
   "cell_type": "code",
   "execution_count": 40,
   "id": "9e94f13e-f1fd-460a-9ff7-a746a6a9141c",
   "metadata": {},
   "outputs": [],
   "source": [
    "def predict_per(phrase):\n",
    "    enc = tokenizer(phrase, padding=True, truncation=True, max_length=512, return_tensors='pt')\n",
    "    enc.to('cuda:0')\n",
    "    with torch.no_grad():\n",
    "        outp = classifier(**enc)\n",
    "    pred = torch.nn.functional.softmax(outp.logits, dim=1)\n",
    "    return pred"
   ]
  },
  {
   "cell_type": "code",
   "execution_count": 43,
   "id": "49214596-a8d5-4d9d-a7a6-b0ada1ce6d2b",
   "metadata": {},
   "outputs": [
    {
     "data": {
      "text/plain": [
       "'normal'"
      ]
     },
     "execution_count": 43,
     "metadata": {},
     "output_type": "execute_result"
    }
   ],
   "source": [
    "predict(\"J'aime la pizza quatre fromages.\")"
   ]
  },
  {
   "cell_type": "code",
   "execution_count": 49,
   "id": "a5c470c6-f925-4725-a6d3-d59886a9b257",
   "metadata": {},
   "outputs": [
    {
     "data": {
      "text/plain": [
       "'racisme'"
      ]
     },
     "execution_count": 49,
     "metadata": {},
     "output_type": "execute_result"
    }
   ],
   "source": [
    "predict(\"Je déteste les noirs.\")"
   ]
  },
  {
   "cell_type": "code",
   "execution_count": 45,
   "id": "c190971a-ac3a-47bf-bb2f-95408fe1ce0a",
   "metadata": {},
   "outputs": [
    {
     "data": {
      "text/plain": [
       "tensor([[0.0019, 0.0070, 0.0040, 0.9844, 0.0026]], device='cuda:0')"
      ]
     },
     "execution_count": 45,
     "metadata": {},
     "output_type": "execute_result"
    }
   ],
   "source": [
    "predict_per(\"J'ai eu beaucoup de chance\")"
   ]
  }
 ],
 "metadata": {
  "kernelspec": {
   "display_name": "Python 3 (ipykernel)",
   "language": "python",
   "name": "python3"
  },
  "language_info": {
   "codemirror_mode": {
    "name": "ipython",
    "version": 3
   },
   "file_extension": ".py",
   "mimetype": "text/x-python",
   "name": "python",
   "nbconvert_exporter": "python",
   "pygments_lexer": "ipython3",
   "version": "3.9.2"
  }
 },
 "nbformat": 4,
 "nbformat_minor": 5
}
