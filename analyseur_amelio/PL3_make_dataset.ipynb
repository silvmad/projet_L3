{
 "cells": [
  {
   "cell_type": "code",
   "execution_count": 67,
   "id": "c9b2eb60-c7a0-4c63-ab72-7b17b29c0647",
   "metadata": {},
   "outputs": [],
   "source": [
    "import os\n",
    "import random\n",
    "import numpy as np"
   ]
  },
  {
   "cell_type": "code",
   "execution_count": 52,
   "id": "c750f35d-7de4-451f-955a-3772346bc748",
   "metadata": {},
   "outputs": [],
   "source": [
    "racism = [(\"africain\", 757, 143), (\"antisemite\", 407, 8), (\"arabe\", 1793, 54), (\"asie\", 60, 263), (\"chretiens\", 393, 234), (\"gitan\", 464, 233), (\"musulman\", 126, 331)]\n",
    "cluster_dir = \"clusters/{}/\""
   ]
  },
  {
   "cell_type": "markdown",
   "id": "6a37f65f-fb4b-472f-bd7c-49fad4b33e88",
   "metadata": {
    "tags": []
   },
   "source": [
    "### Récupération des tweets"
   ]
  },
  {
   "cell_type": "code",
   "execution_count": 20,
   "id": "bb37308a-e55b-4e7e-9bf1-f6d6001630b9",
   "metadata": {},
   "outputs": [],
   "source": [
    "def load_msg(raw_dataset_file):\n",
    "    with open(raw_dataset_file, \"r\") as file:\n",
    "        raw_dataset = file.read().splitlines()\n",
    "    return raw_dataset"
   ]
  },
  {
   "cell_type": "markdown",
   "id": "90274c98-aab5-4659-8095-80eafd12ca09",
   "metadata": {
    "tags": []
   },
   "source": [
    "### Création d'échantillons des clusters\n",
    "On fait en sorte d'avoir des types de haines équilibrés"
   ]
  },
  {
   "cell_type": "code",
   "execution_count": 40,
   "id": "181d57f6-21ea-4aaa-9a78-2b6b956bc22a",
   "metadata": {},
   "outputs": [],
   "source": [
    "def extract_random_sample(dataset, h_size, n_size):\n",
    "    cd = cluster_dir.format(dataset + \"_post_IF\")\n",
    "    dir_it = os.scandir(path=cd)\n",
    "    filenames = [entry.name for entry in dir_it]\n",
    "    h_filenames = [f for f in filenames if \"haineux\" in f]\n",
    "    n_filenames = [f for f in filenames if \"normal\" in f]\n",
    "    h_msg = []\n",
    "    for h in h_filenames:\n",
    "        h_msg += load_msg(cd + h)\n",
    "    if (h_size < len(h_msg)):\n",
    "        h_sample = random.Random(0).sample(h_msg, h_size)\n",
    "    else :\n",
    "        h_sample = h_msg\n",
    "    n_msg = []\n",
    "    for n in n_filenames:\n",
    "        n_msg += load_msg(cd + n)\n",
    "    if (n_size < len(n_msg)):\n",
    "        n_sample = random.Random(0).sample(n_msg, n_size)\n",
    "    else:\n",
    "        n_sample = n_msg\n",
    "    return h_sample, n_sample\n",
    "    "
   ]
  },
  {
   "cell_type": "code",
   "execution_count": 53,
   "id": "0c93c2f1-b5c2-41e3-9e11-5842c366e875",
   "metadata": {},
   "outputs": [],
   "source": [
    "racism_n_sample = []\n",
    "racism_h_sample = []\n",
    "for (subset, h_size, n_size) in racism:\n",
    "    h_sample, n_sample = extract_random_sample(subset, h_size, n_size)\n",
    "    racism_n_sample += n_sample\n",
    "    racism_h_sample += h_sample"
   ]
  },
  {
   "cell_type": "code",
   "execution_count": 54,
   "id": "8c0bb1ad-b59e-47ea-aabf-41a71c7371e7",
   "metadata": {},
   "outputs": [],
   "source": [
    "lgbt_h_sample, lgbt_n_sample = extract_random_sample(\"lgbt\", 4000, 4000)"
   ]
  },
  {
   "cell_type": "code",
   "execution_count": 55,
   "id": "10a4aaa3-16db-40ca-9a34-1951d11ed02b",
   "metadata": {},
   "outputs": [],
   "source": [
    "capa_h_sample, capa_n_sample = extract_random_sample(\"capacitiste\", 4000, 4000)"
   ]
  },
  {
   "cell_type": "code",
   "execution_count": 56,
   "id": "c4b81920-a237-442d-9212-c75a1091c525",
   "metadata": {},
   "outputs": [],
   "source": [
    "miso_h_sample, miso_n_sample = extract_random_sample(\"miso\", 4000, 4000)"
   ]
  },
  {
   "cell_type": "code",
   "execution_count": 57,
   "id": "9d34a3a0-6613-4c2f-937d-f80e88ff3958",
   "metadata": {},
   "outputs": [
    {
     "data": {
      "text/plain": [
       "1266"
      ]
     },
     "execution_count": 57,
     "metadata": {},
     "output_type": "execute_result"
    }
   ],
   "source": [
    "len(racism_n_sample)"
   ]
  },
  {
   "cell_type": "code",
   "execution_count": 58,
   "id": "365a5c20-1067-4096-8c92-cf8382dc9645",
   "metadata": {},
   "outputs": [],
   "source": [
    "def save_sample(sample, file):\n",
    "    with open(file, \"w\") as f:\n",
    "        for msg in sample:\n",
    "            f.write(msg + '\\n')"
   ]
  },
  {
   "cell_type": "code",
   "execution_count": 60,
   "id": "698b3c61-bc22-45a5-87ac-ec38d5951c85",
   "metadata": {},
   "outputs": [],
   "source": [
    "target_dir = \"datasets/final/\"\n",
    "if not os.path.exists(target_dir): \n",
    "    os.mkdir(target_dir)"
   ]
  },
  {
   "cell_type": "code",
   "execution_count": 78,
   "id": "1a1bde4f-aad8-45f4-b72e-49b61761a761",
   "metadata": {},
   "outputs": [],
   "source": [
    "save_sample(racism_h_sample, target_dir + \"racisme\")\n",
    "save_sample(lgbt_h_sample, target_dir + \"lgbt\")\n",
    "save_sample(miso_h_sample, target_dir + \"miso\")\n",
    "save_sample(capa_h_sample, target_dir + \"capacitiste\")"
   ]
  },
  {
   "cell_type": "code",
   "execution_count": 62,
   "id": "db195f5a-319f-4c10-b7ac-191431708edd",
   "metadata": {},
   "outputs": [],
   "source": [
    "normal = racism_n_sample + capa_n_sample + lgbt_n_sample + miso_n_sample"
   ]
  },
  {
   "cell_type": "markdown",
   "id": "338dc762-3407-4571-8b84-6e37871bcbe2",
   "metadata": {},
   "source": [
    "### Extraire 2000 messages non haineux du premier dataset"
   ]
  },
  {
   "cell_type": "code",
   "execution_count": 65,
   "id": "ebd2c0b7-7aa5-47e0-b6c6-3a211eded4b3",
   "metadata": {},
   "outputs": [],
   "source": [
    "with open(\"datasets/MillionTweets_NEFU.txt\", 'r') as f:\n",
    "    dataset_1M = f.read().splitlines()"
   ]
  },
  {
   "cell_type": "code",
   "execution_count": 68,
   "id": "83149067-d2ae-4952-90b7-8044b5d8778d",
   "metadata": {},
   "outputs": [],
   "source": [
    "labels_1M = np.load(\"datasets/MillionTweets_NEFU_labels.npy\")"
   ]
  },
  {
   "cell_type": "code",
   "execution_count": 69,
   "id": "0c7f986f-b862-49f9-aa04-9dc757d11821",
   "metadata": {},
   "outputs": [],
   "source": [
    "join_1M = [(msg, lab) for (msg, lab) in zip(dataset_1M, labels_1M)]"
   ]
  },
  {
   "cell_type": "code",
   "execution_count": 70,
   "id": "c510699d-d61a-4a72-a1bd-579a173095c3",
   "metadata": {},
   "outputs": [],
   "source": [
    "random.Random(0).shuffle(join_1M)"
   ]
  },
  {
   "cell_type": "code",
   "execution_count": 71,
   "id": "71d9a754-53a9-463f-b4ee-283674119f86",
   "metadata": {},
   "outputs": [],
   "source": [
    "with open(\"kw_hate.txt\", 'r') as f:\n",
    "    hate_kw = f.read().splitlines()"
   ]
  },
  {
   "cell_type": "code",
   "execution_count": 72,
   "id": "03590f7e-6302-437a-be1d-055a9b102ecd",
   "metadata": {},
   "outputs": [],
   "source": [
    "n_max = 2000\n",
    "n_norm = 0\n",
    "norm_msg = []\n",
    "\n",
    "i = 0\n",
    "while (n_norm < n_max):\n",
    "    msg, lab = join_1M[i]\n",
    "    if (lab == 0 and not any(kw in msg for kw in hate_kw)):\n",
    "        n_norm +=1\n",
    "        norm_msg.append(msg)\n",
    "    i += 1"
   ]
  },
  {
   "cell_type": "code",
   "execution_count": 75,
   "id": "0b310e0d-8839-43e2-b95e-74a0a0d54095",
   "metadata": {},
   "outputs": [],
   "source": [
    "normal += norm_msg"
   ]
  },
  {
   "cell_type": "code",
   "execution_count": 77,
   "id": "3d8b5307-5c9c-4d47-be6f-0fbb253c9569",
   "metadata": {},
   "outputs": [],
   "source": [
    "save_sample(normal, target_dir + \"normal\")"
   ]
  },
  {
   "cell_type": "code",
   "execution_count": null,
   "id": "92ad211e-a5e8-40f6-98ae-c8985701d9b0",
   "metadata": {},
   "outputs": [],
   "source": []
  }
 ],
 "metadata": {
  "kernelspec": {
   "display_name": "Python 3 (ipykernel)",
   "language": "python",
   "name": "python3"
  },
  "language_info": {
   "codemirror_mode": {
    "name": "ipython",
    "version": 3
   },
   "file_extension": ".py",
   "mimetype": "text/x-python",
   "name": "python",
   "nbconvert_exporter": "python",
   "pygments_lexer": "ipython3",
   "version": "3.9.2"
  }
 },
 "nbformat": 4,
 "nbformat_minor": 5
}
